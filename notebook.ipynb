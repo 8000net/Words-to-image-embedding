{
 "cells": [
  {
   "cell_type": "markdown",
   "metadata": {},
   "source": [
    "# Objective\n",
    "In this notebook I will be creating an MLP that transforms a <a href=\"https://nlp.stanford.edu/projects/glove/\">GloVe embedding</a> into a dense image embedding.  This will ultimately be a critical piece in our effort to generate images from arbitrary text."
   ]
  },
  {
   "cell_type": "markdown",
   "metadata": {},
   "source": [
    "# Data\n",
    "\n",
    "We will be using the Common Object in Context <a href=\"http://cocodataset.org/#home\">(coco)</a> dataset to train this network:\n",
    "\n",
    "###### download these into a data/ folder and rename the folders to data/images/ and data/captions respectively\n",
    "<a href=\"http://images.cocodataset.org/zips/train2014.zip\">\n",
    "    data/images\n",
    "</a>\n",
    "<br>\n",
    "<a href=\"http://images.cocodataset.org/annotations/annotations_trainval2014.zip\">\n",
    "    data/captions\n",
    "</a>\n",
    "###### data/ is already in my .gitignore"
   ]
  },
  {
   "cell_type": "markdown",
   "metadata": {},
   "source": [
    "# Architecture\n",
    "Here is a visual depiction of the architecture of the network we will be creating:\n",
    "<img src=\"img/architecture.png\">"
   ]
  },
  {
   "cell_type": "markdown",
   "metadata": {},
   "source": [
    "# Training\n",
    "To train this network, we will be treating the image embedding as our prediction.  Our target will be the values of one of the layers deep in the VGG 18 network for when we run the captioned image."
   ]
  },
  {
   "cell_type": "code",
   "execution_count": null,
   "metadata": {
    "collapsed": true
   },
   "outputs": [],
   "source": []
  }
 ],
 "metadata": {
  "kernelspec": {
   "display_name": "Python 3",
   "language": "python",
   "name": "python3"
  },
  "language_info": {
   "codemirror_mode": {
    "name": "ipython",
    "version": 3
   },
   "file_extension": ".py",
   "mimetype": "text/x-python",
   "name": "python",
   "nbconvert_exporter": "python",
   "pygments_lexer": "ipython3",
   "version": "3.6.1"
  }
 },
 "nbformat": 4,
 "nbformat_minor": 2
}
